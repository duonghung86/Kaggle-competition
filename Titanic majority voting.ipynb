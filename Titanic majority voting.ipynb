{
 "cells": [
  {
   "cell_type": "code",
   "execution_count": 2,
   "metadata": {},
   "outputs": [],
   "source": [
    "#Import libraries\n",
    "import pandas as pd\n",
    "import numpy as np\n",
    "import matplotlib.pyplot as plt\n",
    "from openpyxl import load_workbook\n",
    "import os\n",
    "%matplotlib inline"
   ]
  },
  {
   "cell_type": "code",
   "execution_count": 3,
   "metadata": {},
   "outputs": [
    {
     "name": "stdout",
     "output_type": "stream",
     "text": [
      "Train set's head: \n",
      "    ID  pclass  gender   age  sibsp  parch  fare embarked  survived\n",
      "0   1       3    male  20.0      0      0   4.0        C         0\n",
      "1   2       3  female  18.0      0      0   7.2        C         1\n",
      "2   3       2    male   NaN      0      0  15.6        C         0\n",
      "3   4       2    male   NaN      0      0   0.0        S         0\n",
      "4   5       3  female   2.0      3      2  27.9        S         0\n",
      "Test set's head: \n",
      "     ID  pclass  gender   age  sibsp  parch   fare embarked\n",
      "0  917       1  female  29.0      0      0  211.3        S\n",
      "1  918       1  female  25.0      1      2  151.6        S\n",
      "2  919       1  female  63.0      1      0   78.0        S\n",
      "3  920       1    male  39.0      0      0    0.0        S\n",
      "4  921       1  female  53.0      2      0   51.5        S\n"
     ]
    }
   ],
   "source": [
    "#Import data sets\n",
    "#fil_nam=os.listdir(\"data\") # name of all files in the folder data in the current working directory\n",
    "tra_set = pd.read_excel(r'titanic_traning.xlsx')\n",
    "tes_set = pd.read_excel(r'titanic_test.xlsx')\n",
    "\n",
    "#Show the head of data\n",
    "print(\"Train set's head: \\n\",tra_set.head())\n",
    "print(\"Test set's head: \\n\",tes_set.head())"
   ]
  },
  {
   "cell_type": "markdown",
   "metadata": {},
   "source": [
    "### Understand the data"
   ]
  },
  {
   "cell_type": "code",
   "execution_count": 4,
   "metadata": {},
   "outputs": [],
   "source": [
    "# Check basic information of the feature\n",
    "def bas_inf(feat):\n",
    "    print(feat.head())\n",
    "    print(len(feat)) #length of data\n",
    "    #See unique values\n",
    "    print(pd.unique(feat))\n",
    "    # Display histogram of feature\n",
    "    feat.value_counts().plot('bar')\n",
    "    #check whether there is missing data\n",
    "    if np.any(feat.isnull())==False:\n",
    "        if feat.dtypes !='O':\n",
    "            print(np.mean(feat))\n",
    "            print(np.std(feat))\n",
    "            print(np.median(feat))\n",
    "        \n",
    "    \n",
    " \n"
   ]
  },
  {
   "cell_type": "code",
   "execution_count": 5,
   "metadata": {},
   "outputs": [
    {
     "name": "stdout",
     "output_type": "stream",
     "text": [
      "0    0\n",
      "1    0\n",
      "2    0\n",
      "3    0\n",
      "4    3\n",
      "Name: sibsp, dtype: int64\n",
      "916\n",
      "[0 3 1 2 5 8 4]\n",
      "0.5218340611353712\n",
      "1.0981143617600069\n",
      "0.0\n"
     ]
    },
    {
     "data": {
      "image/png": "[encoded data removed]",
      "text/plain": [
       "<Figure size 432x288 with 1 Axes>"
      ]
     },
     "metadata": {
      "needs_background": "light"
     },
     "output_type": "display_data"
    }
   ],
   "source": [
    "bas_inf(tra_set['sibsp'])"
   ]
  },
  {
   "cell_type": "markdown",
   "metadata": {},
   "source": [
    "#### Fill the missing data"
   ]
  },
  {
   "cell_type": "code",
   "execution_count": 6,
   "metadata": {},
   "outputs": [],
   "source": [
    "tra_set=tra_set.fillna(method='ffill')\n"
   ]
  },
  {
   "cell_type": "markdown",
   "metadata": {},
   "source": [
    "### Algorithm OneR function"
   ]
  },
  {
   "cell_type": "code",
   "execution_count": 22,
   "metadata": {},
   "outputs": [],
   "source": [
    "def oneR(fea_nam):\n",
    "    # Use the loop to apply algorithm on each type of features\n",
    "    vc=pd.Series([0,0])\n",
    "    for typ in tra_set[fea_nam].unique():\n",
    "        sss=tra_set['survived'][tra_set[fea_nam]==typ] # subset of survived status of this type\n",
    "        vc=sss.value_counts()\n",
    "        print(vc)\n",
    "        print('If',fea_nam,' is ', typ)\n",
    "        maj=np.argmax(vc) # find the majority survived status\n",
    "        print('The majority survived status is',maj)\n",
    "        #Assign the majority status onto this type of test set\n",
    "        tes_set['survived'][tes_set[fea_nam]==typ]=maj\n",
    "    return tes_set['survived']\n",
    "    #print(tes_set['survived'])"
   ]
  },
  {
   "cell_type": "code",
   "execution_count": 23,
   "metadata": {},
   "outputs": [
    {
     "name": "stdout",
     "output_type": "stream",
     "text": [
      "0    367\n",
      "1    128\n",
      "Name: survived, dtype: int64\n",
      "If pclass  is  3\n",
      "The majority survived status is 0\n",
      "0    116\n",
      "1     89\n",
      "Name: survived, dtype: int64\n",
      "If pclass  is  2\n",
      "The majority survived status is 0\n",
      "1    136\n",
      "0     80\n",
      "Name: survived, dtype: int64\n",
      "If pclass  is  1\n",
      "The majority survived status is 1\n",
      "0    405\n",
      "1    212\n",
      "Name: survived, dtype: int64\n",
      "If sibsp  is  0\n",
      "The majority survived status is 0\n",
      "0    10\n",
      "1     6\n",
      "Name: survived, dtype: int64\n",
      "If sibsp  is  3\n",
      "The majority survived status is 0\n"
     ]
    },
    {
     "name": "stderr",
     "output_type": "stream",
     "text": [
      "C:\\Users\\Duong Hung\\Anaconda3\\lib\\site-packages\\ipykernel_launcher.py:12: SettingWithCopyWarning: \n",
      "A value is trying to be set on a copy of a slice from a DataFrame\n",
      "\n",
      "See the caveats in the documentation: http://pandas.pydata.org/pandas-docs/stable/indexing.html#indexing-view-versus-copy\n",
      "  if sys.path[0] == '':\n"
     ]
    },
    {
     "name": "stdout",
     "output_type": "stream",
     "text": [
      "1    121\n",
      "0    108\n",
      "Name: survived, dtype: int64\n",
      "If sibsp  is  1\n",
      "The majority survived status is 1\n",
      "0    15\n",
      "1    11\n",
      "Name: survived, dtype: int64\n",
      "If sibsp  is  2\n",
      "The majority survived status is 0\n",
      "0    5\n",
      "Name: survived, dtype: int64\n",
      "If sibsp  is  5\n",
      "The majority survived status is 0\n",
      "0    8\n",
      "Name: survived, dtype: int64\n",
      "If sibsp  is  8\n",
      "The majority survived status is 0\n",
      "0    12\n",
      "1     3\n",
      "Name: survived, dtype: int64\n",
      "If sibsp  is  4\n",
      "The majority survived status is 0\n"
     ]
    }
   ],
   "source": [
    "tes_set['survived']=np.nan\n",
    "pre_fn='titanic_test_predictions.xlsx'\n",
    "featn1='pclass'\n",
    "pre1=oneR(featn1)\n",
    "ws_nam1=featn1+'_Based_Prediction'\n",
    "featn2='sibsp'\n",
    "pre2=oneR(featn2)\n",
    "ws_nam2=featn2+'_Based_Prediction'\n",
    "\n",
    "book = load_workbook(pre_fn) # Save existing data into book\n",
    "writer = pd.ExcelWriter(pre_fn, engine='openpyxl') \n",
    "writer.book = book\n",
    "writer.sheets = dict((ws.title, ws) for ws in book.worksheets)\n",
    "\n",
    "pre1.to_excel(writer, sheet_name=ws_nam1,index=False,header=False,startcol=2,startrow=1)\n",
    "pre2.to_excel(writer, sheet_name=ws_nam2,index=False,header=False,startcol=2,startrow=1)\n",
    "\n",
    "writer.save()\n"
   ]
  },
  {
   "cell_type": "code",
   "execution_count": null,
   "metadata": {},
   "outputs": [],
   "source": [
    "'gender'+'_based'"
   ]
  },
  {
   "cell_type": "code",
   "execution_count": null,
   "metadata": {},
   "outputs": [],
   "source": [
    "tra_set['gender'].unique()"
   ]
  },
  {
   "cell_type": "code",
   "execution_count": null,
   "metadata": {},
   "outputs": [],
   "source": [
    "tes_set"
   ]
  },
  {
   "cell_type": "code",
   "execution_count": null,
   "metadata": {},
   "outputs": [],
   "source": []
  }
 ],
 "metadata": {
  "kernelspec": {
   "display_name": "Python 3",
   "language": "python",
   "name": "python3"
  },
  "language_info": {
   "codemirror_mode": {
    "name": "ipython",
    "version": 3
   },
   "file_extension": ".py",
   "mimetype": "text/x-python",
   "name": "python",
   "nbconvert_exporter": "python",
   "pygments_lexer": "ipython3",
   "version": "3.7.1"
  }
 },
 "nbformat": 4,
 "nbformat_minor": 2
}
